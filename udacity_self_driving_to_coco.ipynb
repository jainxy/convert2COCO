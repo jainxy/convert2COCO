{
 "cells": [
  {
   "cell_type": "markdown",
   "metadata": {},
   "source": [
    "### Convert Udacity Self-driving Car object-detection dataset annotation into coco format\n",
    "URL : https://github.com/udacity/self-driving-car"
   ]
  },
  {
   "cell_type": "code",
   "execution_count": 6,
   "metadata": {},
   "outputs": [],
   "source": [
    "# imports\n",
    "import argparse\n",
    "import datetime\n",
    "import json\n",
    "import os\n",
    "import time\n",
    "import cv2\n",
    "import numpy as np\n",
    "import matplotlib.pyplot as pyplot\n",
    "import pandas as pd\n",
    "\n",
    "from PIL import Image, ImageDraw\n",
    "from pycocotools.coco import COCO\n",
    "from pycocotools.cocoeval import COCOeval\n",
    "\n",
    "from pprint import pprint"
   ]
  },
  {
   "cell_type": "code",
   "execution_count": 72,
   "metadata": {},
   "outputs": [
    {
     "name": "stdout",
     "output_type": "stream",
     "text": [
      "(72064, 7)\n"
     ]
    },
    {
     "data": {
      "text/html": [
       "<div>\n",
       "<style scoped>\n",
       "    .dataframe tbody tr th:only-of-type {\n",
       "        vertical-align: middle;\n",
       "    }\n",
       "\n",
       "    .dataframe tbody tr th {\n",
       "        vertical-align: top;\n",
       "    }\n",
       "\n",
       "    .dataframe thead th {\n",
       "        text-align: right;\n",
       "    }\n",
       "</style>\n",
       "<table border=\"1\" class=\"dataframe\">\n",
       "  <thead>\n",
       "    <tr style=\"text-align: right;\">\n",
       "      <th></th>\n",
       "      <th>xmin</th>\n",
       "      <th>ymin</th>\n",
       "      <th>xmax</th>\n",
       "      <th>ymax</th>\n",
       "      <th>Frame</th>\n",
       "      <th>Label</th>\n",
       "      <th>Preview URL</th>\n",
       "    </tr>\n",
       "  </thead>\n",
       "  <tbody>\n",
       "    <tr>\n",
       "      <th>0</th>\n",
       "      <td>785</td>\n",
       "      <td>533</td>\n",
       "      <td>905</td>\n",
       "      <td>644</td>\n",
       "      <td>1479498371963069978.jpg</td>\n",
       "      <td>Car</td>\n",
       "      <td>http://crowdai.com/images/Wwj-gorOCisE7uxA/vis...</td>\n",
       "    </tr>\n",
       "    <tr>\n",
       "      <th>1</th>\n",
       "      <td>89</td>\n",
       "      <td>551</td>\n",
       "      <td>291</td>\n",
       "      <td>680</td>\n",
       "      <td>1479498371963069978.jpg</td>\n",
       "      <td>Car</td>\n",
       "      <td>http://crowdai.com/images/Wwj-gorOCisE7uxA/vis...</td>\n",
       "    </tr>\n",
       "    <tr>\n",
       "      <th>2</th>\n",
       "      <td>268</td>\n",
       "      <td>546</td>\n",
       "      <td>383</td>\n",
       "      <td>650</td>\n",
       "      <td>1479498371963069978.jpg</td>\n",
       "      <td>Car</td>\n",
       "      <td>http://crowdai.com/images/Wwj-gorOCisE7uxA/vis...</td>\n",
       "    </tr>\n",
       "    <tr>\n",
       "      <th>3</th>\n",
       "      <td>455</td>\n",
       "      <td>522</td>\n",
       "      <td>548</td>\n",
       "      <td>615</td>\n",
       "      <td>1479498371963069978.jpg</td>\n",
       "      <td>Truck</td>\n",
       "      <td>http://crowdai.com/images/Wwj-gorOCisE7uxA/vis...</td>\n",
       "    </tr>\n",
       "    <tr>\n",
       "      <th>4</th>\n",
       "      <td>548</td>\n",
       "      <td>522</td>\n",
       "      <td>625</td>\n",
       "      <td>605</td>\n",
       "      <td>1479498371963069978.jpg</td>\n",
       "      <td>Truck</td>\n",
       "      <td>http://crowdai.com/images/Wwj-gorOCisE7uxA/vis...</td>\n",
       "    </tr>\n",
       "  </tbody>\n",
       "</table>\n",
       "</div>"
      ],
      "text/plain": [
       "   xmin  ymin  xmax  ymax                    Frame  Label  \\\n",
       "0   785   533   905   644  1479498371963069978.jpg    Car   \n",
       "1    89   551   291   680  1479498371963069978.jpg    Car   \n",
       "2   268   546   383   650  1479498371963069978.jpg    Car   \n",
       "3   455   522   548   615  1479498371963069978.jpg  Truck   \n",
       "4   548   522   625   605  1479498371963069978.jpg  Truck   \n",
       "\n",
       "                                         Preview URL  \n",
       "0  http://crowdai.com/images/Wwj-gorOCisE7uxA/vis...  \n",
       "1  http://crowdai.com/images/Wwj-gorOCisE7uxA/vis...  \n",
       "2  http://crowdai.com/images/Wwj-gorOCisE7uxA/vis...  \n",
       "3  http://crowdai.com/images/Wwj-gorOCisE7uxA/vis...  \n",
       "4  http://crowdai.com/images/Wwj-gorOCisE7uxA/vis...  "
      ]
     },
     "execution_count": 72,
     "metadata": {},
     "output_type": "execute_result"
    }
   ],
   "source": [
    "# setup constant\n",
    "IMG_DIR = \"object-detection-crowdai\"\n",
    "anno_coco_file = \"labels_crowdai_coco.json\"\n",
    "# Read existing csv as dataframe\n",
    "df_anno = pd.read_csv(\"labels_crowdai.csv\")\n",
    "print(df_anno.shape)\n",
    "df_anno.head()"
   ]
  },
  {
   "cell_type": "code",
   "execution_count": 66,
   "metadata": {},
   "outputs": [],
   "source": [
    "# Functions\n",
    "## COCO specific functions\n",
    "def gen_coco_cat_d(df_anno):\n",
    "    coco_cat_l = []\n",
    "    for cat_id, cat_name in enumerate(df_anno.Label.unique()):\n",
    "        cat_dict = dict(id=cat_id+1, name=cat_name, supercategory='none')\n",
    "        coco_cat_l.append(cat_dict)\n",
    "    return coco_cat_l\n",
    "\n",
    "def get_cat_id(cat_name, coco_cat_l):\n",
    "    cat_id = None\n",
    "    for cat_d in coco_cat_l:\n",
    "        if cat_d['name'] == cat_name:\n",
    "            cat_id = cat_d['id']\n",
    "            break\n",
    "    return cat_id\n",
    "\n",
    "def gen_coco_images_d(df_anno, img_dir):\n",
    "    coco_img_l = []\n",
    "    for img_id, img_name in enumerate(df_anno.Frame.unique()):\n",
    "        filepath = os.path.join(img_dir, img_name)\n",
    "        if not os.path.exists(filepath):\n",
    "            raise FileNotFoundError\n",
    "        img_dict = dict(id=int(os.path.splitext(img_name)[0]), file_name=img_name, height=1200, width=1920)\n",
    "        coco_img_l.append(img_dict)\n",
    "    print(\"Number of images - {}\".format(len(coco_img_l)))\n",
    "    return coco_img_l\n",
    "\n",
    "def get_img_id(img_name, img_dir):\n",
    "    filepath = os.path.join(img_dir, img_name)\n",
    "    if not os.path.exists(filepath):\n",
    "        raise FileNotFoundError\n",
    "    img_id = int(os.path.splitext(img_name)[0])\n",
    "    return img_id\n",
    "\n",
    "def gen_coco_anno_d(df_anno, img_dir, coco_cat_l):\n",
    "    coco_anno_l = []\n",
    "    for index, row in df_anno.iterrows():\n",
    "        xmin = row.xmin\n",
    "        ymin = row.ymin\n",
    "        xmax = row.xmax\n",
    "        ymax = row.ymax\n",
    "        w = xmax - xmin\n",
    "        h = ymax - ymin\n",
    "        bbox = [xmin, ymin, w, h]\n",
    "        img_name = row.Frame\n",
    "        img_id = get_img_id(img_name, img_dir)\n",
    "        cat_name = row.Label\n",
    "        cat_id = get_cat_id(cat_name, coco_cat_l)\n",
    "\n",
    "        anno_dict = dict(id=index+1, image_id=img_id, category_id=cat_id, bbox=bbox)\n",
    "        coco_anno_l.append(anno_dict)\n",
    "    print(\"Number of Annotations - {}\".format(len(coco_anno_l)))\n",
    "    return coco_anno_l\n"
   ]
  },
  {
   "cell_type": "code",
   "execution_count": 67,
   "metadata": {},
   "outputs": [
    {
     "name": "stdout",
     "output_type": "stream",
     "text": [
      "[{'id': 1, 'name': 'Car', 'supercategory': 'none'},\n",
      " {'id': 2, 'name': 'Truck', 'supercategory': 'none'},\n",
      " {'id': 3, 'name': 'Pedestrian', 'supercategory': 'none'}]\n"
     ]
    }
   ],
   "source": [
    "COCO_CAT_L = gen_coco_cat_d(df_anno)\n",
    "pprint(COCO_CAT_L)"
   ]
  },
  {
   "cell_type": "code",
   "execution_count": 68,
   "metadata": {},
   "outputs": [
    {
     "name": "stdout",
     "output_type": "stream",
     "text": [
      "Number of images - 9218\n",
      "[{'file_name': '1479498371963069978.jpg',\n",
      "  'height': 1200,\n",
      "  'id': 1479498371963069978,\n",
      "  'width': 1920},\n",
      " {'file_name': '1479498372942264998.jpg',\n",
      "  'height': 1200,\n",
      "  'id': 1479498372942264998,\n",
      "  'width': 1920},\n",
      " {'file_name': '1479498373962951201.jpg',\n",
      "  'height': 1200,\n",
      "  'id': 1479498373962951201,\n",
      "  'width': 1920},\n",
      " {'file_name': '1479498374962942172.jpg',\n",
      "  'height': 1200,\n",
      "  'id': 1479498374962942172,\n",
      "  'width': 1920},\n",
      " {'file_name': '1479498375942206592.jpg',\n",
      "  'height': 1200,\n",
      "  'id': 1479498375942206592,\n",
      "  'width': 1920}]\n"
     ]
    }
   ],
   "source": [
    "COCO_IMG_L = gen_coco_images_d(df_anno, IMG_DIR)\n",
    "pprint(COCO_IMG_L[:5])"
   ]
  },
  {
   "cell_type": "code",
   "execution_count": 69,
   "metadata": {},
   "outputs": [
    {
     "name": "stdout",
     "output_type": "stream",
     "text": [
      "Number of Annotations - 72064\n",
      "[{'bbox': [785, 533, 120, 111],\n",
      "  'category_id': 1,\n",
      "  'image_id': 1479498371963069978},\n",
      " {'bbox': [89, 551, 202, 129],\n",
      "  'category_id': 1,\n",
      "  'image_id': 1479498371963069978},\n",
      " {'bbox': [268, 546, 115, 104],\n",
      "  'category_id': 1,\n",
      "  'image_id': 1479498371963069978},\n",
      " {'bbox': [455, 522, 93, 93],\n",
      "  'category_id': 2,\n",
      "  'image_id': 1479498371963069978},\n",
      " {'bbox': [548, 522, 77, 83],\n",
      "  'category_id': 2,\n",
      "  'image_id': 1479498371963069978}]\n"
     ]
    }
   ],
   "source": [
    "COCO_ANNO_L = gen_coco_anno_d(df_anno, IMG_DIR, COCO_CAT_L)\n",
    "pprint(COCO_ANNO_L[:5])"
   ]
  },
  {
   "cell_type": "code",
   "execution_count": 75,
   "metadata": {},
   "outputs": [],
   "source": [
    "# Create final COCO-styled annotation dictionary\n",
    "COCO_ANNO_DICT = dict(\n",
    "    categories = COCO_CAT_L,\n",
    "    images = COCO_IMG_L,\n",
    "    annotations = COCO_ANNO_L,\n",
    "#     type = \"instances\"\n",
    ")\n",
    "print(COCO_ANNO_DICT.keys())"
   ]
  },
  {
   "cell_type": "code",
   "execution_count": 76,
   "metadata": {},
   "outputs": [],
   "source": [
    "# dump to json file\n",
    "with open(anno_coco_file, 'w') as fp:\n",
    "    json.dump(COCO_ANNO_DICT, fp)"
   ]
  },
  {
   "cell_type": "code",
   "execution_count": null,
   "metadata": {},
   "outputs": [],
   "source": []
  },
  {
   "cell_type": "code",
   "execution_count": null,
   "metadata": {},
   "outputs": [],
   "source": []
  }
 ],
 "metadata": {
  "kernelspec": {
   "display_name": "Python 3",
   "language": "python",
   "name": "python3"
  },
  "language_info": {
   "codemirror_mode": {
    "name": "ipython",
    "version": 3
   },
   "file_extension": ".py",
   "mimetype": "text/x-python",
   "name": "python",
   "nbconvert_exporter": "python",
   "pygments_lexer": "ipython3",
   "version": "3.7.3"
  }
 },
 "nbformat": 4,
 "nbformat_minor": 4
}
